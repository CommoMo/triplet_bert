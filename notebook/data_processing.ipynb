{
 "cells": [
  {
   "cell_type": "code",
   "execution_count": 1,
   "id": "bb62b5bb",
   "metadata": {},
   "outputs": [],
   "source": [
    "import json, random"
   ]
  },
  {
   "cell_type": "code",
   "execution_count": 2,
   "id": "f67b01a5",
   "metadata": {},
   "outputs": [],
   "source": [
    "with open(\"../data/contents_with_tf_sentences.json\", 'r', encoding='utf-8') as f:\n",
    "    dataset = json.load(f)"
   ]
  },
  {
   "cell_type": "code",
   "execution_count": 3,
   "id": "c5e57aaf",
   "metadata": {},
   "outputs": [],
   "source": [
    "train_dataset = random.sample(dataset, 225)\n",
    "test_dataset = [data for data in dataset if data not in train_dataset]"
   ]
  },
  {
   "cell_type": "code",
   "execution_count": 10,
   "id": "72610804",
   "metadata": {},
   "outputs": [],
   "source": [
    "def get_triplet_dataset(dataset):\n",
    "    total_triplet_dataset = []\n",
    "    for article in dataset:\n",
    "        content = article['contents'][0]\n",
    "        true_sents = article['true_sent']\n",
    "        false_sents = article['false_sent']\n",
    "        pairs = []\n",
    "        try:\n",
    "            true_sents = random.sample(true_sents, len(false_sents))\n",
    "        except:\n",
    "            pass\n",
    "        for false_sent in false_sents:\n",
    "            for true_sent in true_sents:\n",
    "                pairs.append((true_sent, false_sent))\n",
    "        triple = [(content, pair[0], pair[1]) for pair in pairs]\n",
    "        total_triplet_dataset += triple\n",
    "    return total_triplet_dataset"
   ]
  },
  {
   "cell_type": "code",
   "execution_count": 11,
   "id": "c39d4c6e",
   "metadata": {},
   "outputs": [
    {
     "data": {
      "text/plain": [
       "(946, 86)"
      ]
     },
     "execution_count": 11,
     "metadata": {},
     "output_type": "execute_result"
    }
   ],
   "source": [
    "train_triplet_dataset, test_triplet_dataset = get_triplet_dataset(train_dataset), get_triplet_dataset(test_dataset)\n",
    "len(train_triplet_dataset), len(test_triplet_dataset)"
   ]
  },
  {
   "cell_type": "code",
   "execution_count": 12,
   "id": "5cc1067f",
   "metadata": {},
   "outputs": [],
   "source": [
    "with open('../data/final/train.json', 'w', encoding='utf-8') as f:\n",
    "    json.dump(train_triplet_dataset, f, indent='\\t', ensure_ascii=False)\n",
    "with open('../data/final/test.json', 'w', encoding='utf-8') as f:\n",
    "    json.dump(train_triplet_dataset, f, indent='\\t', ensure_ascii=False)"
   ]
  },
  {
   "cell_type": "code",
   "execution_count": null,
   "id": "b029b527",
   "metadata": {},
   "outputs": [],
   "source": [
    "train_triplet_dataset[4]"
   ]
  },
  {
   "cell_type": "code",
   "execution_count": null,
   "id": "ddb01c34",
   "metadata": {},
   "outputs": [],
   "source": [
    "with open('../data/final/triplet_dataset.json','w', encoding='utf-8') as f:\n",
    "    json.dump(total_triplet_dataset, f, indent='\\t', ensure_ascii=False)"
   ]
  },
  {
   "cell_type": "code",
   "execution_count": null,
   "id": "9841fd16",
   "metadata": {},
   "outputs": [],
   "source": []
  }
 ],
 "metadata": {
  "kernelspec": {
   "display_name": "Python 3 (ipykernel)",
   "language": "python",
   "name": "python3"
  },
  "language_info": {
   "codemirror_mode": {
    "name": "ipython",
    "version": 3
   },
   "file_extension": ".py",
   "mimetype": "text/x-python",
   "name": "python",
   "nbconvert_exporter": "python",
   "pygments_lexer": "ipython3",
   "version": "3.8.3"
  }
 },
 "nbformat": 4,
 "nbformat_minor": 5
}
