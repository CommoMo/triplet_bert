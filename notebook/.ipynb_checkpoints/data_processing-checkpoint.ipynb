{
 "cells": [
  {
   "cell_type": "code",
   "execution_count": 23,
   "id": "bb62b5bb",
   "metadata": {},
   "outputs": [],
   "source": [
    "import json, random"
   ]
  },
  {
   "cell_type": "code",
   "execution_count": 6,
   "id": "f67b01a5",
   "metadata": {},
   "outputs": [],
   "source": [
    "with open(\"../data/contents_with_tf_sentences.json\", 'r', encoding='utf-8') as f:\n",
    "    dataset = json.load(f)"
   ]
  },
  {
   "cell_type": "code",
   "execution_count": 28,
   "id": "c5e57aaf",
   "metadata": {},
   "outputs": [],
   "source": [
    "train_dataset = random.sample(dataset, 225)\n",
    "test_dataset = [data for data in dataset if data not in train_dataset]"
   ]
  },
  {
   "cell_type": "code",
   "execution_count": 29,
   "id": "72610804",
   "metadata": {},
   "outputs": [],
   "source": [
    "def get_triplet_dataset(dataset):\n",
    "    total_triplet_dataset = []\n",
    "    for article in dataset:\n",
    "        content = article['contents'][0]\n",
    "        true_sents = article['true_sent']\n",
    "        false_sents = article['false_sent']\n",
    "        pairs = []\n",
    "        for false_sent in false_sents:\n",
    "            for true_sent in random.sample(true_sents, len(false_sents)):\n",
    "                pairs.append((true_sent, false_sent))\n",
    "        triple = [(content, pair[0], pair[1]) for pair in pairs]\n",
    "        total_triplet_dataset += triple\n",
    "    return total_triplet_dataset"
   ]
  },
  {
   "cell_type": "code",
   "execution_count": 30,
   "id": "9f862fe9",
   "metadata": {},
   "outputs": [
    {
     "data": {
      "text/plain": [
       "(1068, 141)"
      ]
     },
     "execution_count": 30,
     "metadata": {},
     "output_type": "execute_result"
    }
   ],
   "source": [
    "train_triplet_dataset, test_triplet_dataset = get_triplet_dataset(train_dataset), get_triplet_dataset(test_dataset)\n",
    "len(train_triplet_dataset), len(test_triplet_dataset)"
   ]
  },
  {
   "cell_type": "code",
   "execution_count": 31,
   "id": "5cc1067f",
   "metadata": {},
   "outputs": [],
   "source": [
    "with open('../data/final/train.json', 'w', encoding='utf-8') as f:\n",
    "    json.dump(train_triplet_dataset, f, indent='\\t', ensure_ascii=False)\n",
    "with open('../data/final/test.json', 'w', encoding='utf-8') as f:\n",
    "    json.dump(train_triplet_dataset, f, indent='\\t', ensure_ascii=False)"
   ]
  },
  {
   "cell_type": "code",
   "execution_count": 34,
   "id": "b029b527",
   "metadata": {},
   "outputs": [
    {
     "data": {
      "text/plain": [
       "('2013년 12월 북한 장성택 숙청 이후 그의 부인이자, 김정일 국방위원장의 여동생, 김정은의 고모인 김경희의 생존을 두고 소문이 무성했습니다. 아직 까지도 그 행방을 정확히 확인할 바는 없는데요. 김경희는 김정은과 함께 현재 생존한 유일한 백두혈통입니다. 북한은 김일성의 후예 김 씨 왕조의 백두혈통을 지도자의 가장 중요한 요건으로 따지고 그것을 지키기 위해 엄청난 희생도 마다하지 않고 있습니다. 그 대표적인 예로 장성택 처형을 들 수 있습니다. 장성택 처형 이후 북한은 이런 성명을 내놓았는데요.  \"세월은 흐르고 세대가 열백 번 바뀌어도 변할 수도 바뀔 수도 없는 것이 백두의 혈통이다.우리 당과 국가,군대와 인민은 오직 김일성, 김정일, 김정은 동지밖에는 그 누구도 모른다. 이 하늘아래서 감히 김정은동지의 유일적 영도를 거부하고 원수님의 절대적 권위에 도전하며 백두의 혈통과 일개인을 대치시키는자들을 우리 군대와 인민은 절대로 용서치 않고...\" 그런데, 그 백두혈통인 김경희의 생존을 두고 올 2월에는 일본 산케이 신문이 김경희가 사망했을 가능성이 높다고 보도하기도 했습니다. 이 신문은 김경희가 작년 10월에 사망했지만 김정은이 적절한 시점이 올 때가지 공표하지 말라는 함구령까지 내렸다고 전하고 있는데요. 그동안 국내에서도 김경희의 신변과 관련해 자살설과 위독설, 프랑스 체류설 등이 난무했지만, 국정원은 지난 2월 국회 정보위원회에 나와 현재 김경희가 살아있다고 일축했습니다. [인터뷰:신경민, 새정치민주연합 정보위 간사] \"마원춘, 변인선 처형설을 아마 일본 언론에서 보도한 거 같은데 확인되지 않는다고...김경희 사망했다는 설이 NHK에서 보도된 게 있는데 아니다고 얘길 했고요...\" 보신 것처럼 2월까지만 하더라도 우리 정보당국은 김경희는 살아있다고 보고했습니다. 하지만 최근 미국 CNN에서 북한 고위 간부 탈북자의 인터뷰를 내보냈습니다. 바로 김정은이 고모 김경희를 독살했다는 겁니다. 그 내용 들어보시죠. [인터뷰:박 모 씨, 고위 탈북자] \"지난해 5월 5일이나 6일 김정은이 자기 경호를 담당하는 974부대에 김경희를 죽이라고 지시했습니다. 지금은 고위 관리들도 김경희가 독살된 것으로 알고 있습니다.\" [인터뷰:박 모 씨, 고위 탈북자] \"김경희는 남편이 처형된 이후 분노했죠. 김경희가 안 보이기 시작했고, 기관원들이 집 주위를 감시했어요. 김경희는 한동안 분노 속에 지냈어요.\" 또 CNN은 장성택 처형에 대한 새로운 주장도 보도했는데요. 고위 탈북자라고 밝힌 박 씨는 장성택과 김정은은 돈 문제에서 의견이 맞지 않았다고 설명했습니다. [인터뷰:박 모 씨, 고위 탈북자] \"김정은은 집권 1년 반 정도 지나면서  스키장과 물놀이장을 만들고 싶어 했죠. 하지만 장성택은 경제 살리기가 먼저라는 입장이어서 갈등이 시작됐습니다.\" 박 씨는 이어, 장성택 처형에 관한 얘기도 했습니다. 공개 처형된 게 아니라 지하 밀실에서 처형됐기 때문에 본 사람이 없다는 것입니다. 반면, 30명 가까이 되는 장성택과 김경희의 보좌진은 공개 총살됐다고 주장했습니다. CNN은 북한이 가장 폐쇄적이고 억압적인 나라여서 박 씨 주장을 자체 확인할 방법은 없었다고 전하고 있는데요. [인터뷰:정영태, 통일연구원 선임연구원] \"이건 어느 정도 설로 우리가 자리매김하는 것이 좋겠고 왜 그러냐 하면 지금 김경희라는 고모가 김정은한테 부정을 당한 그런 상황 같으면 사실 김정은이 백두혈통으로서의 정통성을 가지고 통치하기가 어렵습니다. 이 백두혈통이라는 정통성을 뒷받침해 주고 또 실질적으로 여러 가지 권력구조를 뒷받침해 줄 수 있는 이런 조직을 그래도 이끌어가는 구심점은 고모일 수밖에 없습니다. 그게 물론 김여정이라든가 동생이 있다고 하나 아직 동생은 일천하다고 볼 수 있죠. 여러 가지 측면에서. 이런 걸 봤을 때 저는 단지 그 사실 자체는 저도 확인할 가능성이 없습니다.\" 실제로 지난달까지 북한 TV 기록영화에 김경희가 등장했는데요. 김정일 국방위원장 추대 기념일인 지난달 9일. 북한의 조선중앙TV는 2년 전 제작된 \\'절세의 애국자 김정일 장군\\'이란 제목의 영상물 가운데 두 번째 시리즈를 내보냈습니다. 이 영상에서 김경희는 선글라스를 끼고 김정일 부자와 함께 군사훈련을 참관하는 모습이 확인됐는데요. CNN과 인터뷰에서 김경희가 지난해 5월 김정은의 지시로 독살됐다고 주장하는 것과는 달리 전문가들은 김경희가 처형당했다면 최근까지 북한 TV에 버젓이 등장할 수 있겠냐며 의문을 제기하고 있는 겁니다. 그 예로 최근 숙청된 리영호 전 총참모장과 장성택 전 국방위 부위원장 등은 숙청 뒤 모든 기록에서 이들의 모습이 삭제 되기도 했는데요. 이런 북한의 분위기로 보아, 김경희의 독살설은 여전히 의문으로 남아있습니다. 실제로 지난 2월 우리 정보 당국도 김경희의 생존 가능성에 무게를 두고 있는데요. 특히 아버지 김정일이 생전에 자신의 동생인 김경희를 무척이나 아끼며 자신의 최측근 보좌를 맡긴 것 처럼 김정은 역시 자신의 동생인 김여정을 노동당 중앙위원회 부부장으로 승진시키고 자신의 최측근 보좌를 맡겼는데요. 과연 김정은이 아버지 김정일이 아끼던 백두혈통 김경희를 직접 독살하라고 지시 했을까 하는 의문은 더 확인이 필요해 보입니다.',\n",
       " '그동안 국내에서도 김경희의 신변과 관련해 자살설과 위독설, 프랑스 체류설 등이 난무했지만, 국정원은 지난 2월 국회 정보위원회에 나와 현재 김경희가 살아있다고 일축했습니다.\\n',\n",
       " '바로 김정은이 고모 김경희를 독살했다는 겁니다.')"
      ]
     },
     "execution_count": 34,
     "metadata": {},
     "output_type": "execute_result"
    }
   ],
   "source": [
    "train_triplet_dataset[4]"
   ]
  },
  {
   "cell_type": "code",
   "execution_count": 13,
   "id": "ddb01c34",
   "metadata": {},
   "outputs": [],
   "source": [
    "with open('../data/final/triplet_dataset.json','w', encoding='utf-8') as f:\n",
    "    json.dump(total_triplet_dataset, f, indent='\\t', ensure_ascii=False)"
   ]
  },
  {
   "cell_type": "code",
   "execution_count": null,
   "id": "9841fd16",
   "metadata": {},
   "outputs": [],
   "source": []
  }
 ],
 "metadata": {
  "kernelspec": {
   "display_name": "Python 3 (ipykernel)",
   "language": "python",
   "name": "python3"
  },
  "language_info": {
   "codemirror_mode": {
    "name": "ipython",
    "version": 3
   },
   "file_extension": ".py",
   "mimetype": "text/x-python",
   "name": "python",
   "nbconvert_exporter": "python",
   "pygments_lexer": "ipython3",
   "version": "3.8.3"
  }
 },
 "nbformat": 4,
 "nbformat_minor": 5
}
